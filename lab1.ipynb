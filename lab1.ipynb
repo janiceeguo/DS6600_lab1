{
 "cells": [
  {
   "cell_type": "markdown",
   "id": "281408a0",
   "metadata": {},
   "source": [
    "## Problem 2"
   ]
  },
  {
   "cell_type": "markdown",
   "id": "d0499175",
   "metadata": {},
   "source": [
    "### Part a"
   ]
  },
  {
   "cell_type": "markdown",
   "id": "3af5f1db",
   "metadata": {},
   "source": [
    "The best option would be a container, since it allows each chapter to run their own copy of the portal and app, but using the same code. Since containers can package code to be deployed regardless of local infrastrucutre setup, it also complements large storage capabilities that are easily accesible over the internet. Virtual machines are not necessary since each chapter doesn't need a full, isolated operating system, it just needs a packaged container so that the applications can run consistently - this option is also usually not free. Virtual environments only really isolate programing language dependencies, which wouldn't be enough to run separate instances of the application for each chapter with their own database. Global environments are even less powerful - too many issues could arrise across chapters like dependency and version clashes."
   ]
  },
  {
   "cell_type": "markdown",
   "id": "b95ea83f",
   "metadata": {},
   "source": [
    "### Part b"
   ]
  },
  {
   "cell_type": "markdown",
   "id": "08e89b98",
   "metadata": {},
   "source": [
    "A global environment would be sufficient enough, since this is a one-time task that only needs to be run in one instance. There is no need to package and share the environment since the final deliverable involves just the report, not the code. Thus, containers and virtual machines are unecessary because the code does not need to be run anywhere other than your computer. Virtual environments are also unecessary because the report does not have any dependency conflicts, and thus does not require a separate environement to manage."
   ]
  },
  {
   "cell_type": "markdown",
   "id": "bee1a4e4",
   "metadata": {},
   "source": [
    "### Part c"
   ]
  },
  {
   "cell_type": "markdown",
   "id": "a2d3f9aa",
   "metadata": {},
   "source": [
    "Since this specifically requires Ubuntu Linux, a virtual machine would be the best option. Virtual machines provide an isolated operating system environment that would be compatible. They are also portable, which would allow different individuals to run the model. Containers are not sufficient because they do not guarantee that the kernel or underlying system will be compatible. Virtual environments only handel Python-level dependencies, with no guarantee about system packages. Global environments would require separate installations of Ubuntu Linux for each machine that wants to run the model, which is much more impractical."
   ]
  },
  {
   "cell_type": "markdown",
   "id": "208fee72",
   "metadata": {},
   "source": [
    "### Part d"
   ]
  },
  {
   "cell_type": "markdown",
   "id": "1566ced3",
   "metadata": {},
   "source": [
    "A virtual environment would be the best option for this, since it can isolate any Python 3 dependencies even after you download Python 4 for future projects. Containers and virtual machines would be unecessary, since we only need backwards compatability, not the ability to deploy on other machines. Global environments would not be sufficient because if Python 4 is installed globally, any Python 3 projects would break because they are not isolated."
   ]
  },
  {
   "cell_type": "markdown",
   "id": "680f2040",
   "metadata": {},
   "source": [
    "## Problem 3"
   ]
  },
  {
   "cell_type": "markdown",
   "id": "ee35418a",
   "metadata": {},
   "source": [
    "### Part a\n",
    "```\n",
    "conda create -n dslab1 python=3.12 neo4j python-dotenv pandas numpy scipy scikit-learn requests \n",
    "prince ipykernel conda-forge::wquantiles\n",
    "conda activate dslab1\n",
    "pip install ydata_profiling\n",
    "conda deactivate\n",
    "```"
   ]
  },
  {
   "cell_type": "markdown",
   "id": "f108c986",
   "metadata": {},
   "source": [
    "### Part b"
   ]
  },
  {
   "cell_type": "code",
   "execution_count": 1,
   "id": "5cf620a9",
   "metadata": {},
   "outputs": [
    {
     "name": "stderr",
     "output_type": "stream",
     "text": [
      "c:\\Users\\janic\\.conda\\envs\\dslab1\\Lib\\site-packages\\tqdm\\auto.py:21: TqdmWarning: IProgress not found. Please update jupyter and ipywidgets. See https://ipywidgets.readthedocs.io/en/stable/user_install.html\n",
      "  from .autonotebook import tqdm as notebook_tqdm\n"
     ]
    },
    {
     "data": {
      "text/html": [
       "\n",
       "            <div>\n",
       "                <ins><a href=\"https://ydata.ai/register\">Upgrade to ydata-sdk</a></ins>\n",
       "                <p>\n",
       "                    Improve your data and profiling with ydata-sdk, featuring data quality scoring, redundancy detection, outlier identification, text validation, and synthetic data generation.\n",
       "                </p>\n",
       "            </div>\n",
       "            "
      ],
      "text/plain": [
       "<IPython.core.display.HTML object>"
      ]
     },
     "metadata": {},
     "output_type": "display_data"
    }
   ],
   "source": [
    "import numpy as np\n",
    "import pandas as pd\n",
    "import weighted # this is a module of wquantiles\n",
    "from scipy import stats\n",
    "import prince\n",
    "from ydata_profiling import ProfileReport"
   ]
  },
  {
   "cell_type": "markdown",
   "id": "510040dd",
   "metadata": {},
   "source": [
    "## Problem 4"
   ]
  },
  {
   "cell_type": "markdown",
   "id": "711460c9",
   "metadata": {},
   "source": [
    "### Part a\n",
    "```\n",
    "# syntax=docker/dockerfile:1\n",
    "FROM ubuntu:latest\n",
    "RUN apt-get update and apt-get install -y python3\n",
    "WORKDIR /DS6600_lab1\n",
    "CMD [\"python3\"]\n",
    "```"
   ]
  },
  {
   "cell_type": "markdown",
   "id": "e7262952",
   "metadata": {},
   "source": [
    "### Part b\n",
    "```\n",
    "[+] Building 20.8s (9/9) FINISHED                                                      docker:desktop-linux\n",
    " => [internal] load build definition from Dockerfile                                                   0.0s\n",
    " => => transferring dockerfile: 178B                                                                   0.0s \n",
    " => resolve image config for docker-image://docker.io/docker/dockerfile:1                              0.3s \n",
    " => CACHED docker-image://docker.io/docker/dockerfile:1@sha256:dabfc0969b935b2080555ace70ee69a5261af8  0.0s\n",
    " => => resolve docker.io/docker/dockerfile:1@sha256:dabfc0969b935b2080555ace70ee69a5261af8a8f1b4df97b  0.0s \n",
    " => [internal] load metadata for docker.io/library/ubuntu:latest                                       0.1s\n",
    " => [internal] load .dockerignore                                                                      0.0s\n",
    " => => transferring context: 2B                                                                        0.0s \n",
    " => CACHED [1/3] FROM docker.io/library/ubuntu:latest@sha256:353675e2a41babd526e2b837d7ec780c2a05bca0  0.0s \n",
    " => => resolve docker.io/library/ubuntu:latest@sha256:353675e2a41babd526e2b837d7ec780c2a05bca0164f7ea  0.0s \n",
    " => [2/3] RUN apt-get update && apt-get install -y python3                                            13.1s \n",
    " => [3/3] WORKDIR /DS6600_lab1                                                                         0.1s\n",
    " => exporting to image                                                                                 6.2s\n",
    " => => exporting layers                                                                                4.7s\n",
    " => => exporting manifest sha256:d7a9afb61650ad528d8a9a421f9766f26c31f7f33f56bd290df31461071de742      0.0s\n",
    " => => exporting config sha256:f70741c9eb5394a358e76c785008c419b472015ce6c14610526c4e1ed32766fe        0.0s\n",
    " => => exporting attestation manifest sha256:5813b0a80d14aa6e7e9007ead89a13f517d43da8e48c5bb2cab18d7f  0.0s\n",
    " => => exporting manifest list sha256:3e2ecd14e9f41b817f98390482caa131b63beb877f08027579504f8ebdb81c0  0.0s\n",
    " => => naming to docker.io/library/lab1ubuntu:latest                                                   0.0s \n",
    " => => unpacking to docker.io/library/lab1ubuntu:latest                                                1.3s\n",
    "WARNING: current commit information was not captured by the build: git was not found in the system: exec: \"git.exe\": executable file not found in %PATH%\n",
    "```"
   ]
  },
  {
   "cell_type": "markdown",
   "id": "89901cd9",
   "metadata": {},
   "source": [
    "### Part c\n",
    "```\n",
    "Python 3.12.3 (main, Aug 14 2025, 17:47:21) [GCC 13.3.0] on linux\n",
    "Type \"help\", \"copyright\", \"credits\" or \"license\" for more information.\n",
    ">>> \n",
    "```"
   ]
  },
  {
   "cell_type": "markdown",
   "id": "f2222555",
   "metadata": {},
   "source": [
    "## Problem 5"
   ]
  },
  {
   "cell_type": "markdown",
   "id": "8168026b",
   "metadata": {},
   "source": [
    "It is written in the Book of Lugh:\n",
    "\n",
    "> After the Creation, the cruel god Moloch rebelled against the authority of Marduk the Creator. Moloch stole from Marduk the most powerful of all the artifacts of the gods, the Amulet of Yendor, and he hid it in the dark cavities of Gehennom, the Under World, where he now lurks, and bides his time. \n",
    "\n",
    "Your god Lugh seeks to possess the Amulet, and with it to gain deserved ascendance over the other gods.\n",
    "\n",
    "You, a newly trained Gallant, have been heralded from birth as the instrument of Lugh.  You are destined to recover the Amulet for your deity, or die in the attempt.  Your hour of destiny has come.  For the sake of us all:  Go bravely with Lugh!"
   ]
  },
  {
   "cell_type": "markdown",
   "id": "6c0d54d4",
   "metadata": {},
   "source": [
    "## Problem 6"
   ]
  }
 ],
 "metadata": {
  "kernelspec": {
   "display_name": "dslab1",
   "language": "python",
   "name": "python3"
  },
  "language_info": {
   "codemirror_mode": {
    "name": "ipython",
    "version": 3
   },
   "file_extension": ".py",
   "mimetype": "text/x-python",
   "name": "python",
   "nbconvert_exporter": "python",
   "pygments_lexer": "ipython3",
   "version": "3.12.11"
  }
 },
 "nbformat": 4,
 "nbformat_minor": 5
}
