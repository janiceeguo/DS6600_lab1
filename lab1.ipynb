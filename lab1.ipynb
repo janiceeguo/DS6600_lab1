{
 "cells": [
  {
   "cell_type": "markdown",
   "id": "281408a0",
   "metadata": {},
   "source": [
    "## Problem 2"
   ]
  },
  {
   "cell_type": "markdown",
   "id": "d0499175",
   "metadata": {},
   "source": [
    "### Part a"
   ]
  },
  {
   "cell_type": "markdown",
   "id": "3af5f1db",
   "metadata": {},
   "source": [
    "The best option would be a container, since it allows each chapter to run their own copy of the portal and app, but using the same code. Since containers can package code to be deployed regardless of local infrastrucutre setup, it also complements large storage capabilities that are easily accesible over the internet. Virtual machines are not necessary since each chapter doesn't need a full, isolated operating system, it just needs a packaged container so that the applications can run consistently. Virtual environments only really isolate programing language dependencies, which wouldn't be enough to run separate instances of the application for each chapter with their own database. Global environments are even less powerful - too many issues could arrise across chapters like dependency and version clashes."
   ]
  },
  {
   "cell_type": "markdown",
   "id": "b95ea83f",
   "metadata": {},
   "source": [
    "### Part b"
   ]
  },
  {
   "cell_type": "markdown",
   "id": "08e89b98",
   "metadata": {},
   "source": [
    "A global environment would be sufficient enough, since this is a one-time task that only needs to be run in one instance. There is no need to package and share the environment since the final deliverable involves just the report, not the code. Thus, containers and virtual machines are unecessary because the code does not need to be run anywhere other than your computer. Virtual environments are also unecessary because the report does not have any dependency conflicts, and thus does not require a separate environement to manage."
   ]
  },
  {
   "cell_type": "markdown",
   "id": "bee1a4e4",
   "metadata": {},
   "source": [
    "### Part c"
   ]
  },
  {
   "cell_type": "markdown",
   "id": "a2d3f9aa",
   "metadata": {},
   "source": [
    "Since this specifically requires Ubuntu Linux, a virtual machine would be the best option. Virtual machines provide an isolated operating system environment that would be compatible. They are also portable, which would allow different individuals to run the model. Containers are not sufficient because they do not guarantee that the kernel or underlying system will be compatible. Virtual environments only handel Python-level dependencies, with no guarantee about system packages. Global environments would require separate installations of Ubuntu Linux for each machine that wants to run the model, which is much more impractical."
   ]
  },
  {
   "cell_type": "markdown",
   "id": "208fee72",
   "metadata": {},
   "source": [
    "### Part d"
   ]
  },
  {
   "cell_type": "markdown",
   "id": "1566ced3",
   "metadata": {},
   "source": [
    "A virtual environment would be the best option for this, since it can isolate any Python 3 dependencies even after you download Python 4 for future projects. Containers and virtual machines would be unecessary, since we only need backwards compatability, not the ability to deploy on other machines. Global environments would not be sufficient because if Python 4 is installed globally, any Python 3 projects would break because they are not isolated."
   ]
  }
 ],
 "metadata": {
  "language_info": {
   "name": "python"
  }
 },
 "nbformat": 4,
 "nbformat_minor": 5
}
